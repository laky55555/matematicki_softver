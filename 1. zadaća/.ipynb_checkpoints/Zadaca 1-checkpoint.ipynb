{
 "cells": [
  {
   "cell_type": "markdown",
   "metadata": {
    "collapsed": false
   },
   "source": [
    "Numerička matematika\n",
    "\n",
    "Velik broj problema u matematici, a i šire moguće je zapisati pomoću matrica. Zbog toga nam rad s matricama postaje vrlo važan. Matrice najčešće koristimo za izračunavanja nekih sustava linearnih jednadžbi, te nerijetko nalazimo na probleme u kojim matrice imaju neku \"pravilniju\" strukturu. Kako sustavi mogu biti ogromnih veličina svaka dodatna informacija o matricama je važna, te ju želimo iskoristiti tako da uštedimo vrijeme račnanja, memoriju za spremanje itd.\n",
    "U slijdećim primjerima vidjet ćemo nekoliko različitih tipova matrica i pokušati riješiti neke sustave linearnih jednadžbi s njima na nekoliko različitih načina i provjeriti što se s njima događa."
   ]
  },
  {
   "cell_type": "markdown",
   "metadata": {},
   "source": [
    "Inicijalizacija problema koji zelimo rješiti:"
   ]
  },
  {
   "cell_type": "code",
   "execution_count": 222,
   "metadata": {
    "collapsed": false
   },
   "outputs": [],
   "source": [
    "import numpy as np\n",
    "import scipy.linalg as lin\n",
    "import timeit\n",
    "\n",
    "velicina_matrice = 100\n",
    "#inicijalizacija matrice i vektora\n",
    "A = np.array([[0, 3, 0, 2, 0], \n",
    "     [1, 1, 1, 0, 2], \n",
    "     [1, 3, 0, 2, 4], \n",
    "     [0, 3, 0, 4, 4], \n",
    "     [4, 4, 1, 0, 3]])\n",
    "\n",
    "b = np.array([1, 2, 1, 2, 1])\n",
    "b = b.transpose()\n",
    "\n",
    "#random inicijalizacija pozitivno definitne matrice i vektora\n",
    "A = np.random.rand(velicina_matrice,velicina_matrice)\n",
    "b = np.random.rand(velicina_matrice,1)\n",
    "A = np.dot(A,A.transpose())\n",
    "\n",
    "\n",
    "#random inicijalizacija pozitivno definitne 3 dijagonalne matrice \n",
    "def tridiag(a, b, k1=-1, k2=0, k3=1):\n",
    "    return np.diag(b, k1) + np.diag(a, k2) + np.diag(b, k3)\n",
    "\n",
    "pomoc1 = np.random.rand(velicina_matrice)\n",
    "pomoc2 = np.random.rand(velicina_matrice-1)\n",
    "A=tridiag(pomoc1, pomoc2)\n",
    "A = np.dot(A,A.transpose())\n"
   ]
  },
  {
   "cell_type": "markdown",
   "metadata": {},
   "source": [
    "1: $A*x=b$ => $x=A^{-1}*b$, izračunamo inverz od matrice, te pomnožimo inverz s vektorom. Loše jer je traženje inverza nepotrebno, i dugo traje."
   ]
  },
  {
   "cell_type": "code",
   "execution_count": 197,
   "metadata": {
    "collapsed": false
   },
   "outputs": [],
   "source": [
    "start = timeit.default_timer() \n",
    "A_inv = lin.inv(A)\n",
    "x1 = A_inv.dot(b)\n",
    "stop = timeit.default_timer()\n",
    "vrijeme_inverz = stop - start"
   ]
  },
  {
   "cell_type": "markdown",
   "metadata": {},
   "source": [
    "2: Napravimo LU faktorizaciju s pivotiranjem, te onda riješimo sustav $A = P*L*U$ gdje su L i U donje, odnosno gornje trokutaste matrice, a P matrica permutiranja.\n",
    "Prvo permutiramo vektor b s matricom P  $b₂=P^{-1}*b$, zatim nam ostaje $L*U*x=b₂$, koji lagano rješavamo supstitucijom jer su L i U trokutaste. $U*x=L^{^-1}*b₂$, te na kraju $x=U^{^-1}*L^{^-1}*b₂$"
   ]
  },
  {
   "cell_type": "code",
   "execution_count": 155,
   "metadata": {
    "collapsed": false
   },
   "outputs": [],
   "source": [
    "start = timeit.default_timer() \n",
    "P, L, U = lin.lu(A)\n",
    "b2 = lin.inv(P).dot(b)\n",
    "b3 = lin.inv(L).dot(b2)\n",
    "x2 = lin.inv(U).dot(b3)\n",
    "stop = timeit.default_timer()\n",
    "vrijeme_pivotiranje = stop - start"
   ]
  },
  {
   "cell_type": "markdown",
   "metadata": {},
   "source": [
    "3: U scipy-u imamo biblioteku koja sadrži funkciju za računanje sustava, pa iskoristimo ju na našu dobivenu L U faktorizaciju"
   ]
  },
  {
   "cell_type": "code",
   "execution_count": 156,
   "metadata": {
    "collapsed": false
   },
   "outputs": [],
   "source": [
    "start = timeit.default_timer() \n",
    "P, L, U = lin.lu(A)\n",
    "b2 = lin.solve(P,b)\n",
    "b3 = lin.solve_triangular(L,b2, lower=True)\n",
    "x3 = lin.solve_triangular(U,b3)\n",
    "stop = timeit.default_timer()\n",
    "vrijeme_pivotiranje_solve = stop - start"
   ]
  },
  {
   "cell_type": "markdown",
   "metadata": {},
   "source": [
    "4: Ako pozovemo funkciju solve direktno python bi trebao pronaći optimalan način računanja."
   ]
  },
  {
   "cell_type": "code",
   "execution_count": 199,
   "metadata": {
    "collapsed": false
   },
   "outputs": [],
   "source": [
    "start = timeit.default_timer() \n",
    "x4 = lin.solve(A,b)\n",
    "stop = timeit.default_timer()\n",
    "vrijeme_solve = stop - start"
   ]
  },
  {
   "cell_type": "markdown",
   "metadata": {},
   "source": [
    "5: Ako imamo neka dodatana znanja o matrici npr. ako je matrica pozitivno definitna možemo funkciju slove poboljšati tako da joj kažemo da radi s pozitivnom definitnom matricom."
   ]
  },
  {
   "cell_type": "code",
   "execution_count": 224,
   "metadata": {
    "collapsed": false
   },
   "outputs": [],
   "source": [
    "def je_li_pozitivno_definitna(x):\n",
    "    return np.all(np.linalg.eigvals(x) > 0)\n",
    "\n",
    "if(je_li_pozitivno_definitna(A)):\n",
    "    start = timeit.default_timer() \n",
    "    R = lin.cho_factor(A)\n",
    "    x5 = lin.cho_solve(R, b)\n",
    "    stop = timeit.default_timer()\n",
    "    vrijeme_choleski = stop - start\n"
   ]
  },
  {
   "cell_type": "markdown",
   "metadata": {},
   "source": [
    "6: Ako znamo da je matrica 3-dijagonalna:"
   ]
  },
  {
   "cell_type": "code",
   "execution_count": 279,
   "metadata": {
    "collapsed": false
   },
   "outputs": [
    {
     "name": "stdout",
     "output_type": "stream",
     "text": [
      "False\n",
      "True\n"
     ]
    }
   ],
   "source": [
    "def je_li_3_diagonalna(M):\n",
    "    for i in range (2, np.shape(A)[1]):\n",
    "        h = np.zeros(np.shape(A)[1]-i)\n",
    "        print np.allclose(np.diag(A,i),h)\n",
    "        if (np.allclose(np.diag(A,i),h) == True):\n",
    "            return False\n",
    "    return True\n",
    "print()\n",
    "if(je_li_3_diagonalna(A)):\n",
    "    print(\"JE\")\n",
    "    start = timeit.default_timer() \n",
    "    R = lin.cho_factor(A)\n",
    "    x5 = lin.cho_solve(R, b)\n",
    "    stop = timeit.default_timer()\n",
    "    vrijeme_choleski = stop - start"
   ]
  },
  {
   "cell_type": "markdown",
   "metadata": {},
   "source": [
    "7: Ako znamo da je matrica pozitivno definitna i 3-dijagonalna:"
   ]
  },
  {
   "cell_type": "code",
   "execution_count": null,
   "metadata": {
    "collapsed": true
   },
   "outputs": [],
   "source": [
    "def je_li_pozitivno_definitna(x):\n",
    "    return np.all(np.linalg.eigvals(x) > 0)\n",
    "\n",
    "if(je_li_pozitivno_definitna(A)):\n",
    "    start = timeit.default_timer() \n",
    "    R = lin.cho_factor(A)\n",
    "    x5 = lin.cho_solve(R, b)\n",
    "    stop = timeit.default_timer()\n",
    "    vrijeme_choleski = stop - start"
   ]
  },
  {
   "cell_type": "code",
   "execution_count": null,
   "metadata": {
    "collapsed": true
   },
   "outputs": [],
   "source": []
  },
  {
   "cell_type": "code",
   "execution_count": null,
   "metadata": {
    "collapsed": true
   },
   "outputs": [],
   "source": []
  },
  {
   "cell_type": "code",
   "execution_count": null,
   "metadata": {
    "collapsed": true
   },
   "outputs": [],
   "source": [
    "\n",
    "\n",
    "\n",
    "\n",
    "\n",
    "\n",
    "\n",
    "\n",
    "\n",
    "\n",
    "\n",
    "\n",
    "\n",
    "\n",
    "\n",
    "\n",
    "\n",
    "\n",
    "\n",
    "\n",
    "\n",
    "kojkjoikjo"
   ]
  }
 ],
 "metadata": {
  "kernelspec": {
   "display_name": "Python 2 (SageMath)",
   "language": "python",
   "name": "python2"
  },
  "language_info": {
   "codemirror_mode": {
    "name": "ipython",
    "version": 2
   },
   "file_extension": ".py",
   "mimetype": "text/x-python",
   "name": "python",
   "nbconvert_exporter": "python",
   "pygments_lexer": "ipython2",
   "version": "2.7.10"
  }
 },
 "nbformat": 4,
 "nbformat_minor": 0
}
